{
 "cells": [
  {
   "cell_type": "markdown",
   "metadata": {},
   "source": [
    "I found the instructions in the paper, https://academic.oup.com/jncics/article/2/1/pky002/4942295, and this repository to be unclear and incomplete. The intent of this notebook is to clarify that, for myself and others.\n",
    "\n",
    "This section is a highly modified version of what is in `README_mutation_processing_commands` run with bash and linux, or tecnically my Mac."
   ]
  },
  {
   "cell_type": "markdown",
   "metadata": {},
   "source": [
    "Paper's Mutation Data Source, Reformatting, and Filtering\n",
    "\n",
    "The file “CosmicCLP_MutantExport.tsv,” version 81, was downloaded on July 17, 2017, from the COSMIC cell line project (CLP) online database using the Sanger Institute SSH file transfer protocol (http://cancer.sanger.ac.uk/cell_lines). The mutation data of 1020 cell lines were formatted and filtered as described in the following sections. The code for these operations is available from GitHub (https://github.com/mcjarvis/Mutation-Signatures-Including-APOBEC-in-Cancer-Cell-Lines-JNCI-CS-Supplementary-Scripts). To further facilitate the reproducibility of our analyses, the mutation data from three cell lines are used as examples in this section (BC-3, BT-474, and NALM-6), and all key raw and processed numbers are provided in Supplementary Tables 1–3 (available online)."
   ]
  },
  {
   "cell_type": "markdown",
   "metadata": {},
   "source": [
    "First off, you will need a copy of `CosmicCLP_MutantExport.tsv`\n",
    "For the most recent version, currently v91, https://cancer.sanger.ac.uk/cell_lines/download\n",
    "* Complete mutation data\n",
    "* Download whole file\n",
    "\n",
    "For some older versions, select Scripted Download and follow the instructions. Its a bit of a pain. The paper used v81. The columns have changed so you will need to take that into consideration. Unzipped, this file is just under 3GB. In addition, it is protected so I will not be including it in this repository.\n",
    "\n",
    "This notebook will use v91."
   ]
  },
  {
   "cell_type": "code",
   "execution_count": null,
   "metadata": {},
   "outputs": [],
   "source": [
    "date"
   ]
  },
  {
   "cell_type": "code",
   "execution_count": null,
   "metadata": {},
   "outputs": [],
   "source": [
    "head -1 CosmicCLP_MutantExport.v91.tsv"
   ]
  },
  {
   "cell_type": "code",
   "execution_count": null,
   "metadata": {},
   "outputs": [],
   "source": [
    "head -1 CosmicCLP_MutantExport.v91.tsv | awk -F\"\\t\" '{print NF}'"
   ]
  },
  {
   "cell_type": "code",
   "execution_count": null,
   "metadata": {},
   "outputs": [],
   "source": [
    "wc -l CosmicCLP_MutantExport.v91.tsv"
   ]
  },
  {
   "cell_type": "markdown",
   "metadata": {},
   "source": [
    "**Paper's Step 1:** Download, organize, and filter raw mutation data: The fields cell line name (column 5), mutation (column 18), mutation type (column 20), version of the reference genome (column 23), chromosome position of the mutation (column 24), and DNA strand (column 25) were extracted from the “CosmicCLP_MutantExport.tsv” file using the following command:\n",
    "\n",
    "`awk ′BEGIN{FS=\"\\t\"; OFS=\"\\t\"}; 0 !∼ /^#/ {print $5, $18, $20, $23, $24, $25}′CosmicCLP_MutantExport.tsv > cosmic_mut.txt`"
   ]
  },
  {
   "cell_type": "markdown",
   "metadata": {},
   "source": [
    "The paper's command is a bit incorrect.\n",
    "The broken filter is unnecessary.\n",
    "And the column numbers have changed since v81 so make the appropriate changes if necessary.\n",
    "\n",
    "And I'm not sure that `cosmic_mut.txt` is actually needed in the analysis."
   ]
  },
  {
   "cell_type": "code",
   "execution_count": null,
   "metadata": {},
   "outputs": [],
   "source": [
    "mkdir -p v91"
   ]
  },
  {
   "cell_type": "markdown",
   "metadata": {},
   "source": [
    "Change 5, 18, 20, 23, 24 and 25 to 5, 20, 22, 25, 26 and 27 for v91"
   ]
  },
  {
   "cell_type": "code",
   "execution_count": null,
   "metadata": {},
   "outputs": [],
   "source": [
    "awk 'BEGIN{FS=OFS=\"\\t\"} {print $5, $20, $22, $25, $26, $27 }' \\\n",
    "    CosmicCLP_MutantExport.v91.tsv > v91/Step1.tsv"
   ]
  },
  {
   "cell_type": "code",
   "execution_count": null,
   "metadata": {},
   "outputs": [],
   "source": [
    "head v91/Step1.tsv\n",
    "# Sample name\tMutation CDS\tMutation Description\tGRCh\tMutation genome position\tstrand"
   ]
  },
  {
   "cell_type": "markdown",
   "metadata": {},
   "source": [
    "**Paper's Step 2:** Removal of all non-single-base substitution mutations: All mutations that are not single-base substitutions (eg, insertions, deletions, and complex multibase substitutions) were filtered out of the table, leaving single-base substitution mutations annotated as nonsense, missense, or coding silent substitutions. This essential filtering step reduced the number of mutations in BT-474, BC-3, and NALM-6 from 1595 to 1407, 1537 to 1371, and 3291 to 2962, respectively."
   ]
  },
  {
   "cell_type": "code",
   "execution_count": null,
   "metadata": {},
   "outputs": [],
   "source": [
    "head v91/Step1.tsv | awk '(NR==1 || $3 ~ /Substitution/)'"
   ]
  },
  {
   "cell_type": "code",
   "execution_count": null,
   "metadata": {},
   "outputs": [],
   "source": [
    "cat v91/Step1.tsv | awk 'BEGIN{FS=OFS=\"\\t\"}($3 ~ /Substitution/){print $3}' \\\n",
    "| sort | uniq -c"
   ]
  },
  {
   "cell_type": "code",
   "execution_count": null,
   "metadata": {},
   "outputs": [],
   "source": [
    "awk -F\"\\t\" '(NR==1 || $3 ~ /Substitution/) && ($5 != \"\")' v91/Step1.tsv > v91/Step2.tsv"
   ]
  },
  {
   "cell_type": "code",
   "execution_count": null,
   "metadata": {},
   "outputs": [],
   "source": [
    "head v91/Step2.tsv"
   ]
  },
  {
   "cell_type": "code",
   "execution_count": null,
   "metadata": {},
   "outputs": [],
   "source": [
    "cat v91/Step1.tsv | awk -F\"\\t\" '{print $1}' \\\n",
    "| sort | uniq -c | awk '( $2 ~ /^(BT-474|BC-3|NALM-6)$/ )'"
   ]
  },
  {
   "cell_type": "markdown",
   "metadata": {},
   "source": [
    "Expecting ... above\n",
    "\n",
    "* 1537 BC-3\n",
    "* 1595 BT-474\n",
    "* 3291 NALM-6\n",
    "\n",
    "Only one of the initial counts are only off by 1.\n",
    "\n",
    "These numbers are MUCH bigger in v91 as compared to v81!\n",
    "\n",
    "Expecting ... below\n",
    "\n",
    "* 1371 BC-3\n",
    "* 1407 BT-474\n",
    "* 2962 NALM-6\n",
    "  "
   ]
  },
  {
   "cell_type": "code",
   "execution_count": null,
   "metadata": {
    "scrolled": false
   },
   "outputs": [],
   "source": [
    "cat v91/Step2.tsv | awk -F\"\\t\" '{print $1}' \\\n",
    "| sort | uniq -c | awk '( $2 ~ /^(BT-474|BC-3|NALM-6)$/ )'"
   ]
  },
  {
   "cell_type": "markdown",
   "metadata": {},
   "source": [
    "**Paper's Step 3:** Additional filtering to remove nonunique chromosomal positions and file reformatting: All nonunique chromosome positions were filtered out of each cell line individually, which ensures that each mutation has only one associated chromosomal position within a cell line. A tab-separated file was created with chromosome number (eg, “chr1”), chromosomal position, reference allele, alternate (mutant) allele, strand of the substitution, and sample (cell line name) as columns. This table was reordered as follows for subsequent analyses: chr1-chr9, chrX, chrY, chr10-chr22, then by ascending chromosomal position, and it was then saved as a text file. This step reduced mutation numbers in BT-474, BC-3, and NALM-6 from 1407 to 1021, 1371 to 963, and 2962 to 2110, respectively."
   ]
  },
  {
   "cell_type": "code",
   "execution_count": null,
   "metadata": {},
   "outputs": [],
   "source": [
    "awk 'BEGIN{FS=OFS=\"\\t\"}(NR>1){ \\\n",
    "split($5,a,\":\"); chr=a[1]; split(a[2],p,\"-\"); pos=p[1]; \\\n",
    "mut=substr($2,length($2)-2); split(mut,m,\">\");\\\n",
    "print chr, pos, m[1], m[2], $6, $1; \\\n",
    "}' v91/Step2.tsv | sort -n | uniq > v91/Step3.tsv"
   ]
  },
  {
   "cell_type": "code",
   "execution_count": null,
   "metadata": {},
   "outputs": [],
   "source": [
    "head v91/Step3.tsv"
   ]
  },
  {
   "cell_type": "code",
   "execution_count": null,
   "metadata": {},
   "outputs": [],
   "source": [
    "tail v91/Step3.tsv"
   ]
  },
  {
   "cell_type": "code",
   "execution_count": null,
   "metadata": {},
   "outputs": [],
   "source": [
    "cat v91/Step3.tsv | awk '( $6 ~ /^(BT-474|BC-3|NALM-6)$/ ){print $6}' | sort | uniq -c "
   ]
  },
  {
   "cell_type": "markdown",
   "metadata": {},
   "source": [
    "Expecting ... above\n",
    "\n",
    "* 963 BC-3\n",
    "* 1021 BT-474\n",
    "* 2110 NALM-6\n",
    "\n",
    "Spot on. Still gotta re-order, the purpose of which I don't understand."
   ]
  },
  {
   "cell_type": "code",
   "execution_count": null,
   "metadata": {},
   "outputs": [],
   "source": []
  },
  {
   "cell_type": "markdown",
   "metadata": {},
   "source": [
    "## DO I REALLY NEED TO REORDER HERE?"
   ]
  },
  {
   "cell_type": "code",
   "execution_count": null,
   "metadata": {},
   "outputs": [],
   "source": []
  },
  {
   "cell_type": "code",
   "execution_count": null,
   "metadata": {},
   "outputs": [],
   "source": [
    "wc -l v91/Step3.tsv"
   ]
  },
  {
   "cell_type": "markdown",
   "metadata": {},
   "source": [
    "**Paper's Step 4:** Filter out “nonmutations” and “nonmatching mutations”: The hg38 reference genome (FastA file, GCA_000001405.2) was used to filter out nonmutations and nonmatching mutations (downloaded from http://hgdownload.soe.ucsc.edu/goldenPath/hg38/bigZips/ on July 16, 2017). Nonmutations are instances in which the alternate (mutant) allele matches the reference genome at that position. Nonmatching mutations are instances in which the reference allele does not match the reference genome at that position. These anomalies were filtered out of the single-base substitution mutation data set. This step caused a modest reduction in mutation numbers in a small number of cell lines. For instance, the numbers above for BT-474 and BC-3 were unchanged, but the number for NALM-6 reduced from 2110 to 2108. These single-base substation numbers were used to plot medians in Figure 1, and raw values are listed for each trinucleotide context in Supplementary Table 1 (available online). Following the filtering steps described above, the total single-base substitution mutation count across all cell lines was 663 075."
   ]
  },
  {
   "cell_type": "code",
   "execution_count": null,
   "metadata": {},
   "outputs": [],
   "source": [
    "head v91/Step3.tsv"
   ]
  },
  {
   "cell_type": "code",
   "execution_count": null,
   "metadata": {},
   "outputs": [],
   "source": [
    "mkdir -p v91/Step4a"
   ]
  },
  {
   "cell_type": "code",
   "execution_count": null,
   "metadata": {},
   "outputs": [],
   "source": [
    "date"
   ]
  },
  {
   "cell_type": "markdown",
   "metadata": {},
   "source": [
    "Should I be converting to complement for reverse (-) strand? Or was this a bad idea?"
   ]
  },
  {
   "cell_type": "markdown",
   "metadata": {},
   "source": [
    "I downloaded hg38.fa.gz. I gunzipped it, removed the \"chr\" prefix, bgzipped and finally indexed it.\n",
    "```\n",
    "zcat hg38.fa.gz | sed 's/^>chr/>/' > hg38_num.fa\n",
    "samtools faidx hg38_num.fa\n",
    "```"
   ]
  },
  {
   "cell_type": "markdown",
   "metadata": {},
   "source": [
    "This next step will take quite a while, about 3 hours, with all of the reference checks."
   ]
  },
  {
   "cell_type": "code",
   "execution_count": null,
   "metadata": {
    "scrolled": false
   },
   "outputs": [],
   "source": [
    "awk 'BEGIN{FS=OFS=\"\\t\";\n",
    "    comp[\"A\"]=\"T\"\n",
    "    comp[\"T\"]=\"A\"\n",
    "    comp[\"C\"]=\"G\"\n",
    "    comp[\"G\"]=\"C\"\n",
    "    comp[\"N\"]=\"N\"\n",
    "}{\n",
    "    chr=$1; pos=$2; ref=$3; alt=$4; strand=$5; sample=$6\n",
    "    if(chr==23) chr=\"X\"\n",
    "    if(chr==24) chr=\"Y\"\n",
    "    #cmd=\"samtools faidx hg38.fa chr\"chr\":\"pos\"-\"pos\" | tail -1 \"\n",
    "    cmd=\"samtools faidx hg38_num.fa \"chr\":\"pos\"-\"pos\" | tail -1 \"\n",
    "    cmd|getline ref38\n",
    "    close(cmd)\n",
    "    ref38=toupper(ref38)\n",
    "    ref=toupper(ref)\n",
    "    alt=toupper(alt)\n",
    "    if(strand == \"-\"){ ref=comp[ref]; alt=comp[alt] }\n",
    "    if( ref == ref38 ) {\n",
    "        if( alt == ref38 ){\n",
    "#Nonmutations are instances in which the alternate (mutant)\n",
    "#allele matches the reference genome at that position.\n",
    "            print \"Nonmutation?\", chr, pos, ref38, ref, alt, strand, sample >> \"v91/Step4a-nonmutation.tsv\"\n",
    "            close(\"v91/Step4a-nonmutation.tsv\")\n",
    "        }else{\n",
    "            filename=$6\n",
    "            gsub(\"/\",\"_\",filename)\n",
    "            filename=\"v91/Step4a/\"filename\".tsv\"\n",
    "            print chr, pos, ref, alt, strand, sample >> filename\n",
    "            close(filename)\n",
    "        }\n",
    "    }else{\n",
    "#Nonmatching mutations are instances in which the reference \n",
    "#allele does not match the reference genome at that position.\n",
    "        print \"Nonmatching mutation?\", chr, pos, ref38, ref, alt, strand, sample >> \"v91/Step4a-nonmatching.tsv\"\n",
    "        close(\"v91/Step4a-nonmatching.tsv\")\n",
    "    }\n",
    "}' v91/Step3.tsv"
   ]
  },
  {
   "cell_type": "code",
   "execution_count": null,
   "metadata": {},
   "outputs": [],
   "source": [
    "date"
   ]
  },
  {
   "cell_type": "code",
   "execution_count": null,
   "metadata": {},
   "outputs": [],
   "source": [
    "wc -l v91/Step3.tsv"
   ]
  },
  {
   "cell_type": "markdown",
   "metadata": {},
   "source": [
    "Expecting Step4 to be only 663075 but won't be."
   ]
  },
  {
   "cell_type": "code",
   "execution_count": null,
   "metadata": {
    "scrolled": true
   },
   "outputs": [],
   "source": [
    "cat v91/Step4a/*.tsv | wc -l"
   ]
  },
  {
   "cell_type": "code",
   "execution_count": null,
   "metadata": {},
   "outputs": [],
   "source": [
    "wc -l v91/Step4a-nonmatching.tsv"
   ]
  },
  {
   "cell_type": "code",
   "execution_count": null,
   "metadata": {},
   "outputs": [],
   "source": [
    "# wc -l v91/Step4a-nonmutation.tsv"
   ]
  },
  {
   "cell_type": "markdown",
   "metadata": {},
   "source": [
    "wc: Step4a-nonmutation.tsv: No such file or directory"
   ]
  },
  {
   "cell_type": "code",
   "execution_count": null,
   "metadata": {},
   "outputs": [],
   "source": [
    "mkdir -p v91/Step4b"
   ]
  },
  {
   "cell_type": "code",
   "execution_count": null,
   "metadata": {},
   "outputs": [],
   "source": [
    "#for f in *-Step4a.tsv ; do n=${f/Step4a/Step4b}; sort -n $f > $n ;  done\n",
    "for f in v91/Step4a/*tsv; do\n",
    "    b=$( basename $f ) \n",
    "    sort -n $f > v91/Step4b/$b\n",
    "done"
   ]
  },
  {
   "cell_type": "code",
   "execution_count": null,
   "metadata": {},
   "outputs": [],
   "source": [
    "cat v91/Step4b/*.tsv | wc -l"
   ]
  },
  {
   "cell_type": "markdown",
   "metadata": {},
   "source": [
    "Combine and remove \"strand\" column"
   ]
  },
  {
   "cell_type": "code",
   "execution_count": null,
   "metadata": {},
   "outputs": [],
   "source": [
    "cat v91/Step4b/*.tsv | awk 'BEGIN{FS=OFS=\"\\t\"}{print $1,$2,$3,$4,$6}' > v91/cosmic_mut.txt"
   ]
  },
  {
   "cell_type": "markdown",
   "metadata": {},
   "source": [
    "May need to install some perl modules\n",
    "\n",
    "`cpan install -T XML::DOM::XPath BioPerl Bio::DB::Fasta`\n",
    "\n",
    "Also, chromosome naming convention must match so you may need to add \"chr\" prefix to dataset here or in count_trinuc_muts_v8.pl script. The hg38 reference includes the \"chr\" prefix. hg38_num does not."
   ]
  },
  {
   "cell_type": "code",
   "execution_count": null,
   "metadata": {},
   "outputs": [],
   "source": [
    "head v91/cosmic_mut.txt"
   ]
  },
  {
   "cell_type": "code",
   "execution_count": null,
   "metadata": {
    "scrolled": true
   },
   "outputs": [],
   "source": [
    "#for f in Step4b/*.tsv; do\n",
    "#    ./count_trinuc_muts_v8.pl pvcf hg38.fa $f > $f.count.txt\n",
    "#done"
   ]
  },
  {
   "cell_type": "code",
   "execution_count": null,
   "metadata": {},
   "outputs": [],
   "source": [
    "#rename 's/tsv.\\d*.count/count/' *-Step4b.tsv.*.count.txt\n",
    "#rename 's/tsv.\\d*.count/count/' Step4b/*.tsv.*.count.txt"
   ]
  },
  {
   "cell_type": "code",
   "execution_count": null,
   "metadata": {},
   "outputs": [],
   "source": [
    "#head -1 $( ls Step4b/*count.txt | head -1 ) > cosmic_mut_all_sort.txt\n",
    "#tail -n +2 -q Step4b/*count.txt >> cosmic_mut_all_sort.txt"
   ]
  },
  {
   "cell_type": "code",
   "execution_count": null,
   "metadata": {},
   "outputs": [],
   "source": []
  },
  {
   "cell_type": "code",
   "execution_count": null,
   "metadata": {},
   "outputs": [],
   "source": [
    "cat v91/Step4b/*.tsv > v91/Step4b.tsv"
   ]
  },
  {
   "cell_type": "code",
   "execution_count": null,
   "metadata": {},
   "outputs": [],
   "source": [
    "wc -l v91/Step4b.tsv"
   ]
  },
  {
   "cell_type": "code",
   "execution_count": null,
   "metadata": {},
   "outputs": [],
   "source": [
    "#awk 'BEGIN{FS=OFS=\"\\t\"}{print \"chr\"$1,$2,$3,$4,$5,$6}' v91/Step4b.tsv > v91/Step4c.tsv\n",
    "awk 'BEGIN{FS=OFS=\"\\t\"}{print $1,$2,$3,$4,$5,$6}' v91/Step4b.tsv > v91/Step4c.tsv"
   ]
  },
  {
   "cell_type": "code",
   "execution_count": null,
   "metadata": {},
   "outputs": [],
   "source": [
    "head v91/Step4c.tsv"
   ]
  },
  {
   "cell_type": "code",
   "execution_count": null,
   "metadata": {
    "scrolled": true
   },
   "outputs": [],
   "source": [
    "#./count_trinuc_muts_v8.pl pvcf hg38.fa v91/Step4c.tsv > v91/cosmic_mut_all_sort.txt\n",
    "./count_trinuc_muts_v8.pl pvcf hg38_num.fa v91/Step4c.tsv > v91/cosmic_mut_all_sort.txt"
   ]
  },
  {
   "cell_type": "code",
   "execution_count": null,
   "metadata": {},
   "outputs": [],
   "source": [
    "head v91/cosmic_mut_all_sort.txt"
   ]
  },
  {
   "cell_type": "markdown",
   "metadata": {},
   "source": [
    "`count_trinuc_muts_v8.pl` filters quite a few mutations out for some reason."
   ]
  },
  {
   "cell_type": "code",
   "execution_count": null,
   "metadata": {},
   "outputs": [],
   "source": [
    "wc -l v91/cosmic_mut_all_sort.txt"
   ]
  },
  {
   "cell_type": "markdown",
   "metadata": {},
   "source": [
    "The supplementary data associated with this paper pky002_supp.zip contains\n",
    "* Supplementary Table 1-mutation counts.xls  \n",
    "* Supplementary Table 2-COSMIC signatures.xls  \n",
    "* Supplementary Table 3-APOBEC signatures.xls\n",
    "  \n",
    "2 of these spreadsheets include sample and tissue columns which I extracted to create the tab-separated, 2-column cosmic_tissue_type.txt file. There is no header in this file and column 1 is the Cell Line and column 2 is the Tissue of Origin."
   ]
  },
  {
   "cell_type": "code",
   "execution_count": null,
   "metadata": {},
   "outputs": [],
   "source": [
    "head \"Supplementary Table 1-mutation counts.csv\""
   ]
  },
  {
   "cell_type": "code",
   "execution_count": null,
   "metadata": {},
   "outputs": [],
   "source": [
    "awk 'BEGIN{FS=\",\";OFS=\"\\t\"}(NR>1){print $2,$1}' \\\n",
    "    \"Supplementary Table 1-mutation counts.csv\" > v91/cosmic_tissue_type.txt"
   ]
  },
  {
   "cell_type": "code",
   "execution_count": null,
   "metadata": {},
   "outputs": [],
   "source": [
    "head v91/cosmic_tissue_type.txt"
   ]
  },
  {
   "cell_type": "code",
   "execution_count": null,
   "metadata": {},
   "outputs": [],
   "source": [
    "date"
   ]
  },
  {
   "cell_type": "markdown",
   "metadata": {},
   "source": [
    "This notebook could be run outside\n",
    "\n",
    "```\n",
    "jupyter nbconvert --to notebook --execute Reproduce-1.ipynb --output Reproduce-1-out.ipynb --ExecutePreprocessor.timeout=14400\n",
    "```"
   ]
  }
 ],
 "metadata": {
  "kernelspec": {
   "display_name": "Bash",
   "language": "bash",
   "name": "bash"
  },
  "language_info": {
   "codemirror_mode": "shell",
   "file_extension": ".sh",
   "mimetype": "text/x-sh",
   "name": "bash"
  }
 },
 "nbformat": 4,
 "nbformat_minor": 2
}
