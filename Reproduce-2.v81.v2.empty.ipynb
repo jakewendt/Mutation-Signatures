{
 "cells": [
  {
   "cell_type": "markdown",
   "metadata": {},
   "source": [
    "\n",
    "And this section is a highly modified version of `analysis_and_visualization_commands.R`\n",
    "\n",
    "It is done using deconstructSigs' Sanger Version 2 signatures.\n",
    "\n",
    "Another notebook will be created in the future using the Version 3 signaures created May 2019.\n"
   ]
  },
  {
   "cell_type": "markdown",
   "metadata": {},
   "source": [
    "Now we have cosmic_mut.txt, cosmic_mut_all_sort.txt and cosmic_tissue_type.txt"
   ]
  },
  {
   "cell_type": "markdown",
   "metadata": {},
   "source": [
    "Having those 3 files, I can now do the following, which is heavily modified from the example in the github repository."
   ]
  },
  {
   "cell_type": "markdown",
   "metadata": {},
   "source": [
    "Prepare R by installing some packages."
   ]
  },
  {
   "cell_type": "code",
   "execution_count": null,
   "metadata": {},
   "outputs": [],
   "source": [
    "if (!requireNamespace(\"BiocManager\", quietly = TRUE))\n",
    "    install.packages(\"BiocManager\")\n",
    "\n",
    "BiocManager::install(update = TRUE, ask = FALSE)\n",
    "\n",
    "list.of.packages <- c(\"deconstructSigs\",\"ggplot2\",\"BSgenome.Hsapiens.UCSC.hg38\",\n",
    "                      \"reshape\",\"stringr\",\"plyr\",\"gridExtra\")\n",
    "new.packages <- list.of.packages[!(list.of.packages %in% installed.packages()[,\"Package\"])]\n",
    "\n",
    "BiocManager::install( new.packages, update = TRUE, ask = FALSE)"
   ]
  },
  {
   "cell_type": "code",
   "execution_count": null,
   "metadata": {},
   "outputs": [],
   "source": [
    "require(deconstructSigs)\n",
    "require(ggplot2)\n",
    "require(reshape)\n",
    "require(stringr)\n",
    "require(plyr)\n",
    "require(gridExtra)\n",
    "\n",
    "require(BSgenome.Hsapiens.UCSC.hg38)\n",
    "hg38 <- BSgenome.Hsapiens.UCSC.hg38"
   ]
  },
  {
   "cell_type": "code",
   "execution_count": null,
   "metadata": {},
   "outputs": [],
   "source": [
    "cosmic_mut = read.table(\"v81/cosmic_mut.txt\",header = F, sep=\"\\t\",\n",
    "    col.names = c(\"chr\",\"pos\",\"ref\",\"alt\",\"sample\"))"
   ]
  },
  {
   "cell_type": "code",
   "execution_count": null,
   "metadata": {},
   "outputs": [],
   "source": [
    "head(cosmic_mut)"
   ]
  },
  {
   "cell_type": "code",
   "execution_count": null,
   "metadata": {},
   "outputs": [],
   "source": [
    "cosmic_mut_sort <- with(cosmic_mut, cosmic_mut[order(cosmic_mut[,\"sample\"]),])\n",
    "head(cosmic_mut_sort)"
   ]
  },
  {
   "cell_type": "code",
   "execution_count": null,
   "metadata": {},
   "outputs": [],
   "source": [
    "rownames(cosmic_mut_sort) <- NULL\n",
    "head(cosmic_mut_sort)"
   ]
  },
  {
   "cell_type": "code",
   "execution_count": null,
   "metadata": {},
   "outputs": [],
   "source": [
    "cosmic_mut_sort$sample <- as.factor(cosmic_mut_sort$sample)\n",
    "head(cosmic_mut_sort)"
   ]
  },
  {
   "cell_type": "code",
   "execution_count": null,
   "metadata": {},
   "outputs": [],
   "source": [
    "cosmic_mut_all_sort <- read.table(file = \"v81/cosmic_mut_all_sort.txt\",\n",
    "                                  header = F, sep = \"\\t\", stringsAsFactors = T)\n",
    "head(cosmic_mut_all_sort)"
   ]
  },
  {
   "cell_type": "code",
   "execution_count": null,
   "metadata": {},
   "outputs": [],
   "source": [
    "colnames(cosmic_mut_all_sort) <- c(\n",
    "    \"chr\", \"pos\", \"5_tetnuc\", \"3_tetnuc\", \"trinuc\", \"mut\", \"trinuc_mut\",\n",
    "    \"strand\", \"context\", \"C_count\", \"TC_count\", \"TCA_count\", \"TCT_count\",\n",
    "    \"YTCA_count\", \"RTCA_count\", \"sample\")\n",
    "head(cosmic_mut_all_sort)"
   ]
  },
  {
   "cell_type": "markdown",
   "metadata": {},
   "source": []
  },
  {
   "cell_type": "code",
   "execution_count": null,
   "metadata": {},
   "outputs": [],
   "source": [
    "#deconstructSigs_input <- cosmic_mut_all_sort[,c(1:2,6,16)]\n",
    "#deconstructSigs_input <- cosmic_mut_all_sort[,match(c(\"chr\",\"pos\",\"mut\",\"sample\"),colnames(cosmic_mut_all_sort))]\n",
    "#deconstructSigs_input <- cosmic_mut_all_sort[,match(c(\"chr\",\"pos\",\"mut\",\"sample\"),colnames(cosmic_mut_all_sort))]\n",
    "#deconstructSigs_input <- cosmic_mut_all_sort[,match(c(\"chr\",\"pos\",\"mut\",\"sample\"),colnames(cosmic_mut_all_sort))]\n",
    "deconstructSigs_input <- subset(cosmic_mut_all_sort, select = c(\"chr\", \"pos\", \"mut\", \"sample\"))\n",
    "head(deconstructSigs_input)"
   ]
  },
  {
   "cell_type": "code",
   "execution_count": null,
   "metadata": {},
   "outputs": [],
   "source": [
    "deconstructSigs_input$ref <- substr(deconstructSigs_input$mut, 1, 1)\n",
    "head(deconstructSigs_input)"
   ]
  },
  {
   "cell_type": "code",
   "execution_count": null,
   "metadata": {},
   "outputs": [],
   "source": [
    "deconstructSigs_input$alt <- substr(deconstructSigs_input$mut, 3, 3)\n",
    "head(deconstructSigs_input)"
   ]
  },
  {
   "cell_type": "code",
   "execution_count": null,
   "metadata": {},
   "outputs": [],
   "source": [
    "deconstructSigs_input <- subset(deconstructSigs_input,\n",
    "                                select = c(\"chr\", \"pos\", \"ref\", \"alt\", \"sample\"))\n",
    "head(deconstructSigs_input)"
   ]
  },
  {
   "cell_type": "code",
   "execution_count": null,
   "metadata": {},
   "outputs": [],
   "source": [
    "date()"
   ]
  },
  {
   "cell_type": "code",
   "execution_count": null,
   "metadata": {},
   "outputs": [],
   "source": [
    "mut.counts <- mut.to.sigs.input(mut.ref = deconstructSigs_input,\n",
    "                                sample.id = \"sample\", chr = \"chr\", pos = \"pos\",\n",
    "                                ref = \"ref\", alt = \"alt\", bsg = hg38)"
   ]
  },
  {
   "cell_type": "code",
   "execution_count": null,
   "metadata": {},
   "outputs": [],
   "source": [
    "date()"
   ]
  },
  {
   "cell_type": "code",
   "execution_count": null,
   "metadata": {},
   "outputs": [],
   "source": [
    "head(mut.counts)"
   ]
  },
  {
   "cell_type": "code",
   "execution_count": null,
   "metadata": {},
   "outputs": [],
   "source": [
    "\n",
    "\n",
    "# This is never explicitly used?\n",
    "# However, the code references signatures.cosmic which is never set?\n",
    "# Yet everything seems to work?\n",
    "# I believe that this is set from within deconstructSigs\n",
    "\n",
    "\n",
    "#signatures.nature2013 <- load(\"cosmic/signatures.nature2013.rda\")\n",
    "#signatures.cosmic <- load(\"cosmic/signatures.nature2013.rda\")\n",
    "#signatures.cosmic <- load(\"cosmic/signatures.cosmic.rda\")\n",
    "\n",
    "\n",
    "\n",
    "\n"
   ]
  },
  {
   "cell_type": "code",
   "execution_count": null,
   "metadata": {},
   "outputs": [],
   "source": [
    "context <- getTriContextFraction(mut.counts.ref = mut.counts,\n",
    "                                 trimer.counts.method = \"default\")\n",
    "head(context)"
   ]
  },
  {
   "cell_type": "code",
   "execution_count": null,
   "metadata": {},
   "outputs": [],
   "source": [
    "context$tca_tct <- context[,\"T[C>T]A\"] + context[,\"T[C>T]T\"] + context[,\"T[C>G]A\"] + context[,\"T[C>G]T\"]\n",
    "head(context$tca_tct)\n",
    "#0.042713567839196 0.00735294117647059 0.0165903890160183 0.045 0.0943708609271523 0.128252788104089"
   ]
  },
  {
   "cell_type": "code",
   "execution_count": null,
   "metadata": {},
   "outputs": [],
   "source": [
    "context$sample <- rownames(context)\n",
    "head(context$sample)\n",
    "# '201T' '22RV1' '23132-87' '42-MG-BA' '451Lu' '5637'"
   ]
  },
  {
   "cell_type": "code",
   "execution_count": null,
   "metadata": {},
   "outputs": [],
   "source": [
    "tca_tct <- subset(context, select = c(\"sample\", \"tca_tct\"))\n",
    "head(tca_tct)"
   ]
  },
  {
   "cell_type": "code",
   "execution_count": null,
   "metadata": {},
   "outputs": [],
   "source": [
    "rownames(tca_tct) <- NULL\n",
    "head(tca_tct)"
   ]
  },
  {
   "cell_type": "code",
   "execution_count": null,
   "metadata": {},
   "outputs": [],
   "source": [
    "# cleanup\n",
    "context$sample <- NULL\n",
    "context$tca_tct <- NULL"
   ]
  },
  {
   "cell_type": "code",
   "execution_count": null,
   "metadata": {},
   "outputs": [],
   "source": [
    "ls()"
   ]
  },
  {
   "cell_type": "code",
   "execution_count": null,
   "metadata": {},
   "outputs": [],
   "source": [
    "#output.sigs.final <- as.data.frame(whichSignatures(context,\n",
    "#    sample.id = \"ZR-75-30\",\n",
    "#    signatures.cosmic,\n",
    "#    contexts.needed = F))\n",
    "#head(output.sigs.final)"
   ]
  },
  {
   "cell_type": "markdown",
   "metadata": {},
   "source": [
    "signatures.nature2013 produces a different list of columns in output.sigs.final so need to use signatures.cosmic which only crashes because it is less than 320, the subscript selection that happens later ...\n",
    "\n",
    "'weights.Signature.1A' 'weights.Signature.1B' 'weights.Signature.2' 'weights.Signature.3' 'weights.Signature.4' 'weights.Signature.5' 'weights.Signature.6' 'weights.Signature.7' 'weights.Signature.8' 'weights.Signature.9' 'weights.Signature.10' 'weights.Signature.11' 'weights.Signature.12' 'weights.Signature.13' 'weights.Signature.14' 'weights.Signature.15' 'weights.Signature.16' 'weights.Signature.17' 'weights.Signature.18' 'weights.Signature.19' 'weights.Signature.20' 'weights.Signature.21' 'weights.Signature.R1' 'weights.Signature.R2' 'weights.Signature.R3' 'weights.Signature.U1' 'weights.Signature.U2' 'tumor.A.C.A.A' 'tumor.A.C.A.C' 'tumor.A.C.A.G' 'tumor.A.C.A.T' 'tumor.C.C.A.A' 'tumor.C.C.A.C' 'tumor.C.C.A.G' 'tumor.C.C.A.T' 'tumor.G.C.A.A' 'tumor.G.C.A.C' 'tumor.G.C.A.G' 'tumor.G.C.A.T' 'tumor.T.C.A.A' 'tumor.T.C.A.C' 'tumor.T.C.A.G' 'tumor.T.C.A.T' 'tumor.A.C.G.A' 'tumor.A.C.G.C' 'tumor.A.C.G.G' 'tumor.A.C.G.T' 'tumor.C.C.G.A' 'tumor.C.C.G.C' 'tumor.C.C.G.G' 'tumor.C.C.G.T' 'tumor.G.C.G.A' 'tumor.G.C.G.C' 'tumor.G.C.G.G' 'tumor.G.C.G.T' 'tumor.T.C.G.A' 'tumor.T.C.G.C' 'tumor.T.C.G.G' 'tumor.T.C.G.T' 'tumor.A.C.T.A' 'tumor.A.C.T.C' 'tumor.A.C.T.G' 'tumor.A.C.T.T' 'tumor.C.C.T.A' 'tumor.C.C.T.C' 'tumor.C.C.T.G' 'tumor.C.C.T.T' 'tumor.G.C.T.A' 'tumor.G.C.T.C' 'tumor.G.C.T.G' 'tumor.G.C.T.T' 'tumor.T.C.T.A' 'tumor.T.C.T.C' 'tumor.T.C.T.G' 'tumor.T.C.T.T' 'tumor.A.T.A.A' 'tumor.A.T.A.C' 'tumor.A.T.A.G' 'tumor.A.T.A.T' 'tumor.C.T.A.A' 'tumor.C.T.A.C' 'tumor.C.T.A.G' 'tumor.C.T.A.T' 'tumor.G.T.A.A' 'tumor.G.T.A.C' 'tumor.G.T.A.G' 'tumor.G.T.A.T' 'tumor.T.T.A.A' 'tumor.T.T.A.C' 'tumor.T.T.A.G' 'tumor.T.T.A.T' 'tumor.A.T.C.A' 'tumor.A.T.C.C' 'tumor.A.T.C.G' 'tumor.A.T.C.T' 'tumor.C.T.C.A' 'tumor.C.T.C.C' 'tumor.C.T.C.G' 'tumor.C.T.C.T' 'tumor.G.T.C.A' 'tumor.G.T.C.C' 'tumor.G.T.C.G' 'tumor.G.T.C.T' 'tumor.T.T.C.A' 'tumor.T.T.C.C' 'tumor.T.T.C.G' 'tumor.T.T.C.T' 'tumor.A.T.G.A' 'tumor.A.T.G.C' 'tumor.A.T.G.G' 'tumor.A.T.G.T' 'tumor.C.T.G.A' 'tumor.C.T.G.C' 'tumor.C.T.G.G' 'tumor.C.T.G.T' 'tumor.G.T.G.A' 'tumor.G.T.G.C' 'tumor.G.T.G.G' 'tumor.G.T.G.T' 'tumor.T.T.G.A' 'tumor.T.T.G.C' 'tumor.T.T.G.G' 'tumor.T.T.G.T' 'product.A.C.A.A' 'product.A.C.A.C' 'product.A.C.A.G' 'product.A.C.A.T' 'product.C.C.A.A' 'product.C.C.A.C' 'product.C.C.A.G' 'product.C.C.A.T' 'product.G.C.A.A' 'product.G.C.A.C' 'product.G.C.A.G' 'product.G.C.A.T' 'product.T.C.A.A' 'product.T.C.A.C' 'product.T.C.A.G' 'product.T.C.A.T' 'product.A.C.G.A' 'product.A.C.G.C' 'product.A.C.G.G' 'product.A.C.G.T' 'product.C.C.G.A' 'product.C.C.G.C' 'product.C.C.G.G' 'product.C.C.G.T' 'product.G.C.G.A' 'product.G.C.G.C' 'product.G.C.G.G' 'product.G.C.G.T' 'product.T.C.G.A' 'product.T.C.G.C' 'product.T.C.G.G' 'product.T.C.G.T' 'product.A.C.T.A' 'product.A.C.T.C' 'product.A.C.T.G' 'product.A.C.T.T' 'product.C.C.T.A' 'product.C.C.T.C' 'product.C.C.T.G' 'product.C.C.T.T' 'product.G.C.T.A' 'product.G.C.T.C' 'product.G.C.T.G' 'product.G.C.T.T' 'product.T.C.T.A' 'product.T.C.T.C' 'product.T.C.T.G' 'product.T.C.T.T' 'product.A.T.A.A' 'product.A.T.A.C' 'product.A.T.A.G' 'product.A.T.A.T' 'product.C.T.A.A' 'product.C.T.A.C' 'product.C.T.A.G' 'product.C.T.A.T' 'product.G.T.A.A' 'product.G.T.A.C' 'product.G.T.A.G' 'product.G.T.A.T' 'product.T.T.A.A' 'product.T.T.A.C' 'product.T.T.A.G' 'product.T.T.A.T' 'product.A.T.C.A' 'product.A.T.C.C' 'product.A.T.C.G' 'product.A.T.C.T' 'product.C.T.C.A' 'product.C.T.C.C' 'product.C.T.C.G' 'product.C.T.C.T' 'product.G.T.C.A' 'product.G.T.C.C' 'product.G.T.C.G' 'product.G.T.C.T' 'product.T.T.C.A' 'product.T.T.C.C' 'product.T.T.C.G' 'product.T.T.C.T' 'product.A.T.G.A' 'product.A.T.G.C' 'product.A.T.G.G' 'product.A.T.G.T' 'product.C.T.G.A' 'product.C.T.G.C' 'product.C.T.G.G' 'product.C.T.G.T' 'product.G.T.G.A' 'product.G.T.G.C' 'product.G.T.G.G' 'product.G.T.G.T' 'product.T.T.G.A' 'product.T.T.G.C' 'product.T.T.G.G' 'product.T.T.G.T' 'diff.A.C.A.A' 'diff.A.C.A.C' 'diff.A.C.A.G' 'diff.A.C.A.T' 'diff.C.C.A.A' 'diff.C.C.A.C' 'diff.C.C.A.G' 'diff.C.C.A.T' 'diff.G.C.A.A' 'diff.G.C.A.C' 'diff.G.C.A.G' 'diff.G.C.A.T' 'diff.T.C.A.A' 'diff.T.C.A.C' 'diff.T.C.A.G' 'diff.T.C.A.T' 'diff.A.C.G.A' 'diff.A.C.G.C' 'diff.A.C.G.G' 'diff.A.C.G.T' 'diff.C.C.G.A' 'diff.C.C.G.C' 'diff.C.C.G.G' 'diff.C.C.G.T' 'diff.G.C.G.A' 'diff.G.C.G.C' 'diff.G.C.G.G' 'diff.G.C.G.T' 'diff.T.C.G.A' 'diff.T.C.G.C' 'diff.T.C.G.G' 'diff.T.C.G.T' 'diff.A.C.T.A' 'diff.A.C.T.C' 'diff.A.C.T.G' 'diff.A.C.T.T' 'diff.C.C.T.A' 'diff.C.C.T.C' 'diff.C.C.T.G' 'diff.C.C.T.T' 'diff.G.C.T.A' 'diff.G.C.T.C' 'diff.G.C.T.G' 'diff.G.C.T.T' 'diff.T.C.T.A' 'diff.T.C.T.C' 'diff.T.C.T.G' 'diff.T.C.T.T' 'diff.A.T.A.A' 'diff.A.T.A.C' 'diff.A.T.A.G' 'diff.A.T.A.T' 'diff.C.T.A.A' 'diff.C.T.A.C' 'diff.C.T.A.G' 'diff.C.T.A.T' 'diff.G.T.A.A' 'diff.G.T.A.C' 'diff.G.T.A.G' 'diff.G.T.A.T' 'diff.T.T.A.A' 'diff.T.T.A.C' 'diff.T.T.A.G' 'diff.T.T.A.T' 'diff.A.T.C.A' 'diff.A.T.C.C' 'diff.A.T.C.G' 'diff.A.T.C.T' 'diff.C.T.C.A' 'diff.C.T.C.C' 'diff.C.T.C.G' 'diff.C.T.C.T' 'diff.G.T.C.A' 'diff.G.T.C.C' 'diff.G.T.C.G' 'diff.G.T.C.T' 'diff.T.T.C.A' 'diff.T.T.C.C' 'diff.T.T.C.G' 'diff.T.T.C.T' 'diff.A.T.G.A' 'diff.A.T.G.C' 'diff.A.T.G.G' 'diff.A.T.G.T' 'diff.C.T.G.A' 'diff.C.T.G.C' 'diff.C.T.G.G' 'diff.C.T.G.T' 'diff.G.T.G.A' 'diff.G.T.G.C' 'diff.G.T.G.G' 'diff.G.T.G.T' 'diff.T.T.G.A' 'diff.T.T.G.C' 'diff.T.T.G.G' 'diff.T.T.G.T' 'unknown' 'zAPOBEC.Sig'"
   ]
  },
  {
   "cell_type": "markdown",
   "metadata": {},
   "source": [
    "The builtin signatures are \"Version 2\" https://cancer.sanger.ac.uk/cosmic/signatures_v2\n",
    "\n",
    "The website recently (May 2019) released Version 3. There is no Version 3 equivalent of the above image, yet. I downloaded and created a version 3 matrix for use in deconstructSigs whichSignatures method.\n",
    "\n",
    "* https://cancer.sanger.ac.uk/cosmic/signatures\n",
    "* Single Base Signatures\n",
    "* The signatures are available in numerical form from synapse.org ID [syn12009743](https://www.synapse.org/#!Synapse:syn12009743).\n",
    "\n",
    "\n",
    "```\n",
    "wget -O sigProfiler_SBS_signatures_2019_05_22.csv https://dcc.icgc.org/api/v1/download?fn=/PCAWG/mutational_signatures/Signatures/SP_Signatures/SigProfiler_reference_signatures/SigProfiler_reference_whole-genome_signatures/sigProfiler_SBS_signatures_2019_05_22.csv\n",
    "```\n",
    "\n",
    "Merge the Type and Subtype columns ...\n",
    "\n",
    "```BASH\n",
    "awk 'BEGIN{FS=OFS=\",\"}\n",
    "(NR==1){printf(\"\\\"sig\\\"\")}\n",
    "(NR>1){split($2,a,\"\");printf(\"\\\"%s[%s]%s\\\"\",a[1],$1,a[3])}\n",
    "{for(i=3;i<=NF;i++)printf(\",%s\",$i);printf(\"\\n\")}' sigProfiler_SBS_signatures_2019_05_22.csv > sigProfiler_SBS_signatures_2019_05_22.merged.csv\n",
    "```\n",
    "\n",
    "Then transpose ...\n",
    "\n",
    "```BASH\n",
    "datamash transpose -t , < sigProfiler_SBS_signatures_2019_05_22.merged.csv > sigProfiler_SBS_signatures_2019_05_22.merged.tp.csv\n",
    "```\n",
    "\n",
    "For some reason, this added control-M's after field. Can't figure out why.\n",
    "\n",
    "```BASH\n",
    "sed -i -e 's/\\r//g' sigProfiler_SBS_signatures_2019_05_22.merged.tp.csv\n",
    "```\n",
    "\n",
    "```R\n",
    "signatures.v3 <- read.csv( file=\"sigProfiler_SBS_signatures_2019_05_22.merged.tp.csv\",\n",
    "    check.names=FALSE, row.names='sig')\n",
    "save(signatures.v3,file=\"signatures.v3.rda\")\n",
    "```\n",
    "\n",
    "`signatures.v3` can be used in place of `signatures.cosmic`, but it will change a great deal downstream"
   ]
  },
  {
   "cell_type": "code",
   "execution_count": null,
   "metadata": {},
   "outputs": [],
   "source": [
    "date()"
   ]
  },
  {
   "cell_type": "code",
   "execution_count": null,
   "metadata": {
    "scrolled": false
   },
   "outputs": [],
   "source": [
    "if( exists(\"output.sigs.final\") ){\n",
    "    rm(output.sigs.final)\n",
    "}\n",
    "# signatures.cosmic is part of the deconstructSigs package \n",
    "# so guessing that is why it works without me loading it.\n",
    "# Wonder what happens if I use signatures.nature2013. Failure. Don't.\n",
    "# Different number of columns that need to modify downstream.\n",
    "for(i in (1:nrow(context))) {\n",
    "  #message(i,\" - \",nrow(context))\n",
    "  output.sigs <- as.data.frame(whichSignatures(context,\n",
    "      sample.id = rownames(context[i,]),\n",
    "      signatures.cosmic,\n",
    "      contexts.needed = F))\n",
    "  if( exists(\"output.sigs.final\")){\n",
    "    output.sigs.final <- rbind(output.sigs.final, output.sigs)\n",
    "  } else {\n",
    "    output.sigs.final <- output.sigs\n",
    "  }\n",
    "}"
   ]
  },
  {
   "cell_type": "code",
   "execution_count": null,
   "metadata": {},
   "outputs": [],
   "source": [
    "date()"
   ]
  },
  {
   "cell_type": "code",
   "execution_count": null,
   "metadata": {},
   "outputs": [],
   "source": [
    "head(output.sigs.final)"
   ]
  },
  {
   "cell_type": "code",
   "execution_count": null,
   "metadata": {},
   "outputs": [],
   "source": [
    "length(output.sigs.final)\n",
    "# 319"
   ]
  },
  {
   "cell_type": "code",
   "execution_count": null,
   "metadata": {},
   "outputs": [],
   "source": [
    "tail(output.sigs.final)"
   ]
  },
  {
   "cell_type": "code",
   "execution_count": null,
   "metadata": {},
   "outputs": [],
   "source": [
    "# Don't need to trim this anymore as only load ZR-75-30 once. Should still be 1020\n",
    "#output.sigs.final <- head(output.sigs.final,-1)"
   ]
  },
  {
   "cell_type": "code",
   "execution_count": null,
   "metadata": {},
   "outputs": [],
   "source": [
    "nrow(output.sigs.final)\n",
    "# 1020"
   ]
  },
  {
   "cell_type": "code",
   "execution_count": null,
   "metadata": {},
   "outputs": [],
   "source": [
    "length(output.sigs.final)"
   ]
  },
  {
   "cell_type": "code",
   "execution_count": null,
   "metadata": {},
   "outputs": [],
   "source": [
    "tail(output.sigs.final)"
   ]
  },
  {
   "cell_type": "code",
   "execution_count": null,
   "metadata": {},
   "outputs": [],
   "source": [
    "# combine to separate signatures. Not sure exactly what 2 and 13 are just yet\n",
    "output.sigs.final$zAPOBEC.Sig <- output.sigs.final$weights.Signature.2 + output.sigs.final$weights.Signature.13"
   ]
  },
  {
   "cell_type": "code",
   "execution_count": null,
   "metadata": {},
   "outputs": [],
   "source": [
    "colnames(output.sigs.final)"
   ]
  },
  {
   "cell_type": "code",
   "execution_count": null,
   "metadata": {},
   "outputs": [],
   "source": [
    "head(output.sigs.final[,c(1:30,319,320)])"
   ]
  },
  {
   "cell_type": "code",
   "execution_count": null,
   "metadata": {},
   "outputs": [],
   "source": [
    "colnames(output.sigs.final)[c(1:30,319,320)]"
   ]
  },
  {
   "cell_type": "code",
   "execution_count": null,
   "metadata": {},
   "outputs": [],
   "source": [
    "# Only want 32 of these columns?\n",
    "output.sigs.final <- output.sigs.final[,c(1:30,319,320)]\n",
    "head(output.sigs.final)"
   ]
  },
  {
   "cell_type": "code",
   "execution_count": null,
   "metadata": {},
   "outputs": [],
   "source": [
    "output.sigs.final$sample <- rownames(output.sigs.final)\n",
    "head(output.sigs.final$sample)\n",
    "# '201T' '22RV1' '23132-87' '42-MG-BA' '451Lu' '5637'"
   ]
  },
  {
   "cell_type": "code",
   "execution_count": null,
   "metadata": {},
   "outputs": [],
   "source": [
    "rownames(output.sigs.final) <- NULL\n",
    "head(output.sigs.final)"
   ]
  },
  {
   "cell_type": "code",
   "execution_count": null,
   "metadata": {},
   "outputs": [],
   "source": [
    "cosmic_tissue_type <- read.table(file = \"v81/cosmic_tissue_type.txt\",\n",
    "                                 header = F, stringsAsFactors = F,\n",
    "                                 fill = T, sep=\"\\t\")\n",
    "head(cosmic_tissue_type)"
   ]
  },
  {
   "cell_type": "code",
   "execution_count": null,
   "metadata": {},
   "outputs": [],
   "source": [
    "colnames(cosmic_tissue_type) <- c(\"sample\", \"tissue\")\n",
    "head(cosmic_tissue_type)"
   ]
  },
  {
   "cell_type": "code",
   "execution_count": null,
   "metadata": {},
   "outputs": [],
   "source": [
    "length(cosmic_tissue_type)"
   ]
  },
  {
   "cell_type": "code",
   "execution_count": null,
   "metadata": {},
   "outputs": [],
   "source": [
    "# Unnecessary\n",
    "cosmic_tissue_type <- unique(cosmic_tissue_type)\n",
    "length(cosmic_tissue_type)"
   ]
  },
  {
   "cell_type": "code",
   "execution_count": null,
   "metadata": {},
   "outputs": [],
   "source": [
    "nrow(cosmic_tissue_type)"
   ]
  },
  {
   "cell_type": "code",
   "execution_count": null,
   "metadata": {},
   "outputs": [],
   "source": []
  },
  {
   "cell_type": "code",
   "execution_count": null,
   "metadata": {},
   "outputs": [],
   "source": []
  },
  {
   "cell_type": "code",
   "execution_count": null,
   "metadata": {},
   "outputs": [],
   "source": [
    "\n",
    "\n",
    "tissues <- cosmic_tissue_type[order(cosmic_tissue_type$tissue),]\n",
    "tissues <- unique(as.vector(tissues[,\"tissue\"]))\n",
    "head(tissues)\n",
    "\n",
    "# 'Adrenal Gland''Autonomic Ganglia''Biliary Tract''Bladder''Bone''Breast'"
   ]
  },
  {
   "cell_type": "code",
   "execution_count": null,
   "metadata": {},
   "outputs": [],
   "source": [
    "length(tissues)\n",
    "# 30"
   ]
  },
  {
   "cell_type": "code",
   "execution_count": null,
   "metadata": {},
   "outputs": [],
   "source": []
  },
  {
   "cell_type": "code",
   "execution_count": null,
   "metadata": {},
   "outputs": [],
   "source": []
  },
  {
   "cell_type": "code",
   "execution_count": null,
   "metadata": {},
   "outputs": [],
   "source": [
    "cosmic_mut_tissue <- merge(cosmic_mut_all_sort,\n",
    "                           cosmic_tissue_type, by = \"sample\", all.x = T)\n",
    "head(cosmic_tissue_type)"
   ]
  },
  {
   "cell_type": "code",
   "execution_count": null,
   "metadata": {},
   "outputs": [],
   "source": [
    "cell_line_mutload <- as.data.frame(table(cosmic_mut_tissue$sample))\n",
    "head(cell_line_mutload)"
   ]
  },
  {
   "cell_type": "code",
   "execution_count": null,
   "metadata": {},
   "outputs": [],
   "source": [
    "colnames(cell_line_mutload) <- c(\"sample\", \"mut_tot\")\n",
    "head(cell_line_mutload)"
   ]
  },
  {
   "cell_type": "code",
   "execution_count": null,
   "metadata": {},
   "outputs": [],
   "source": [
    "cell_line_mutload <- merge(cell_line_mutload,\n",
    "                           cosmic_tissue_type, by = \"sample\", all.x = T)\n",
    "head(cell_line_mutload)"
   ]
  },
  {
   "cell_type": "code",
   "execution_count": null,
   "metadata": {},
   "outputs": [],
   "source": [
    "sigs_tissues <- merge(output.sigs.final,\n",
    "                      cell_line_mutload, by = \"sample\")\n",
    "head(sigs_tissues)"
   ]
  },
  {
   "cell_type": "code",
   "execution_count": null,
   "metadata": {},
   "outputs": [],
   "source": [
    "#> x=c(5,6,7,8,9)\n",
    "#> x\n",
    "#[1] 5 6 7 8 9\n",
    "#> x  %in% c(3,4,5,6)\n",
    "#[1]  TRUE  TRUE FALSE FALSE FALSE\n",
    "#> x[x  %in% c(3,4,5,6)]\n",
    "#[1] 5 6"
   ]
  },
  {
   "cell_type": "code",
   "execution_count": null,
   "metadata": {},
   "outputs": [],
   "source": [
    "colnames(sigs_tissues)[c(3,14,34)]\n",
    "# 'weights.Signature.2''weights.Signature.13''mut_tot'"
   ]
  },
  {
   "cell_type": "code",
   "execution_count": null,
   "metadata": {},
   "outputs": [],
   "source": [
    "colnames(sigs_tissues)"
   ]
  },
  {
   "cell_type": "code",
   "execution_count": null,
   "metadata": {},
   "outputs": [],
   "source": [
    "colnames(sigs_tissues)[!colnames(sigs_tissues) %in% c('weights.Signature.2','weights.Signature.13','mut_tot')]"
   ]
  },
  {
   "cell_type": "code",
   "execution_count": null,
   "metadata": {},
   "outputs": [],
   "source": [
    "head(sigs_tissues)"
   ]
  },
  {
   "cell_type": "code",
   "execution_count": null,
   "metadata": {},
   "outputs": [],
   "source": [
    "#sigs_tissues <- sigs_tissues[,-c(3,14,34)]\n",
    "#remove signature2, signature13, mut_tot?\n",
    "#\n",
    "#sigs_tissues <- sigs_tissues[,!colnames(sigs_tissues) %in% c('weights.Signature.2','weights.Signature.13','mut_tot')]\n",
    "\n",
    "sigs_tissues <- sigs_tissues[,!colnames(sigs_tissues) %in% c('weights.Signature.2','weights.Signature.13')]\n",
    "head(sigs_tissues)\n",
    "\n",
    "#gonna need mut_tot later so can't do this here"
   ]
  },
  {
   "cell_type": "code",
   "execution_count": null,
   "metadata": {},
   "outputs": [],
   "source": [
    "sigs_individual <- subset(sigs_tissues, tissue == \"L. Intestine\")\n",
    "head(sigs_individual)"
   ]
  },
  {
   "cell_type": "code",
   "execution_count": null,
   "metadata": {},
   "outputs": [],
   "source": [
    "sigs_individual <- sigs_individual[,!colnames(sigs_individual) %in% c('tissue','mut_tot')]\n",
    "head(sigs_individual)"
   ]
  },
  {
   "cell_type": "code",
   "execution_count": null,
   "metadata": {},
   "outputs": [],
   "source": [
    "colnames(sigs_individual)"
   ]
  },
  {
   "cell_type": "code",
   "execution_count": null,
   "metadata": {},
   "outputs": [],
   "source": [
    "#colnames(sigs_individual)[32]"
   ]
  },
  {
   "cell_type": "code",
   "execution_count": null,
   "metadata": {},
   "outputs": [],
   "source": [
    "## remove column 32??  tissue\n",
    "#sigs_individual <- sigs_individual[,!colnames(sigs_individual) %in% c('tissue')]\n",
    "##sigs_individual <- sigs_individual[,-c(32)]\n",
    "#head(sigs_individual)"
   ]
  },
  {
   "cell_type": "code",
   "execution_count": null,
   "metadata": {},
   "outputs": [],
   "source": [
    "sigs_melt <- melt(sigs_individual, id = \"sample\")\n",
    "head(sigs_melt)"
   ]
  },
  {
   "cell_type": "code",
   "execution_count": null,
   "metadata": {},
   "outputs": [],
   "source": [
    "colnames(sigs_melt) <- c(\"sample\", \"sig\", \"value\")\n",
    "head(sigs_melt)"
   ]
  },
  {
   "cell_type": "code",
   "execution_count": null,
   "metadata": {},
   "outputs": [],
   "source": [
    "nrow(sigs_melt)\n",
    "# 1650"
   ]
  },
  {
   "cell_type": "code",
   "execution_count": null,
   "metadata": {},
   "outputs": [],
   "source": [
    "sigs_melt[,\"sig\"] <- gsub(\"weights.\", \"\", sigs_melt[,\"sig\"])"
   ]
  },
  {
   "cell_type": "code",
   "execution_count": null,
   "metadata": {},
   "outputs": [],
   "source": [
    "nrow(sigs_melt)"
   ]
  },
  {
   "cell_type": "code",
   "execution_count": null,
   "metadata": {},
   "outputs": [],
   "source": [
    "head(sigs_melt)"
   ]
  },
  {
   "cell_type": "code",
   "execution_count": null,
   "metadata": {},
   "outputs": [],
   "source": [
    "tail(sigs_melt)"
   ]
  },
  {
   "cell_type": "code",
   "execution_count": null,
   "metadata": {},
   "outputs": [],
   "source": [
    "sigs_melt[,\"sig\"] <- gsub(\"Signature.10\", \"I\", sigs_melt[,\"sig\"])\n",
    "sigs_melt[,\"sig\"] <- gsub(\"Signature.11\", \"J\", sigs_melt[,\"sig\"])\n",
    "sigs_melt[,\"sig\"] <- gsub(\"Signature.12\", \"K\", sigs_melt[,\"sig\"])\n",
    "sigs_melt[,\"sig\"] <- gsub(\"Signature.14\", \"L\", sigs_melt[,\"sig\"])\n",
    "sigs_melt[,\"sig\"] <- gsub(\"Signature.15\", \"M\", sigs_melt[,\"sig\"])\n",
    "sigs_melt[,\"sig\"] <- gsub(\"Signature.16\", \"N\", sigs_melt[,\"sig\"])\n",
    "sigs_melt[,\"sig\"] <- gsub(\"Signature.17\", \"O\", sigs_melt[,\"sig\"])\n",
    "sigs_melt[,\"sig\"] <- gsub(\"Signature.18\", \"P\", sigs_melt[,\"sig\"])\n",
    "sigs_melt[,\"sig\"] <- gsub(\"Signature.19\", \"Q\", sigs_melt[,\"sig\"])\n",
    "sigs_melt[,\"sig\"] <- gsub(\"Signature.20\", \"R\", sigs_melt[,\"sig\"])\n",
    "sigs_melt[,\"sig\"] <- gsub(\"Signature.21\", \"S\", sigs_melt[,\"sig\"])\n",
    "sigs_melt[,\"sig\"] <- gsub(\"Signature.22\", \"T\", sigs_melt[,\"sig\"])\n",
    "sigs_melt[,\"sig\"] <- gsub(\"Signature.23\", \"U\", sigs_melt[,\"sig\"])\n",
    "sigs_melt[,\"sig\"] <- gsub(\"Signature.24\", \"V\", sigs_melt[,\"sig\"])\n",
    "sigs_melt[,\"sig\"] <- gsub(\"Signature.25\", \"W\", sigs_melt[,\"sig\"])\n",
    "sigs_melt[,\"sig\"] <- gsub(\"Signature.26\", \"X\", sigs_melt[,\"sig\"])\n",
    "sigs_melt[,\"sig\"] <- gsub(\"Signature.27\", \"Y\", sigs_melt[,\"sig\"])\n",
    "sigs_melt[,\"sig\"] <- gsub(\"Signature.28\", \"Z\", sigs_melt[,\"sig\"])\n",
    "sigs_melt[,\"sig\"] <- gsub(\"Signature.29\", \"ZZ\", sigs_melt[,\"sig\"])\n",
    "sigs_melt[,\"sig\"] <- gsub(\"Signature.30\", \"ZZZ\", sigs_melt[,\"sig\"])\n",
    "sigs_melt[,\"sig\"] <- gsub(\"unknown\", \"ZZZZ\", sigs_melt[,\"sig\"])\n",
    "sigs_melt[,\"sig\"] <- gsub(\"zAPOBEC.Sig\", \"ZZZZZ\", sigs_melt[,\"sig\"])\n",
    "sigs_melt[,\"sig\"] <- gsub(\"Signature.1\", \"A\", sigs_melt[,\"sig\"])\n",
    "sigs_melt[,\"sig\"] <- gsub(\"Signature.3\", \"B\", sigs_melt[,\"sig\"])\n",
    "sigs_melt[,\"sig\"] <- gsub(\"Signature.4\", \"C\", sigs_melt[,\"sig\"])\n",
    "sigs_melt[,\"sig\"] <- gsub(\"Signature.5\", \"D\", sigs_melt[,\"sig\"])\n",
    "sigs_melt[,\"sig\"] <- gsub(\"Signature.6\", \"E\", sigs_melt[,\"sig\"])\n",
    "sigs_melt[,\"sig\"] <- gsub(\"Signature.7\", \"F\", sigs_melt[,\"sig\"])\n",
    "sigs_melt[,\"sig\"] <- gsub(\"Signature.8\", \"G\", sigs_melt[,\"sig\"])\n",
    "sigs_melt[,\"sig\"] <- gsub(\"Signature.9\", \"H\", sigs_melt[,\"sig\"])"
   ]
  },
  {
   "cell_type": "code",
   "execution_count": null,
   "metadata": {},
   "outputs": [],
   "source": [
    "nrow(sigs_melt)"
   ]
  },
  {
   "cell_type": "code",
   "execution_count": null,
   "metadata": {},
   "outputs": [],
   "source": [
    "list <- sigs_individual[order(sigs_individual$zAPOBEC.Sig),]\n",
    "head(list)"
   ]
  },
  {
   "cell_type": "code",
   "execution_count": null,
   "metadata": {},
   "outputs": [],
   "source": [
    "list1 <- as.vector(list[,\"sample\"])\n",
    "head(list1)\n",
    "# 'CaR-1''CCK-81''CL-11''CL-34''CL-40''COLO-205'"
   ]
  },
  {
   "cell_type": "code",
   "execution_count": null,
   "metadata": {},
   "outputs": [],
   "source": [
    "length(list1)"
   ]
  },
  {
   "cell_type": "code",
   "execution_count": null,
   "metadata": {},
   "outputs": [],
   "source": [
    "# Adjust plot size\n",
    "options(repr.plot.width=16, repr.plot.height=6)"
   ]
  },
  {
   "cell_type": "code",
   "execution_count": null,
   "metadata": {},
   "outputs": [],
   "source": []
  },
  {
   "cell_type": "code",
   "execution_count": null,
   "metadata": {},
   "outputs": [],
   "source": [
    "ggplot(sigs_melt, aes(sample, value, fill = sig)) +\n",
    "  geom_col() +\n",
    "  ggtitle( paste0(\"Large Intestine (n=\", length(list1), \")\")) +\n",
    "  #scale_fill_brewer() +\n",
    "  theme(axis.text.x=element_text(angle = 45, hjust = 1)) +\n",
    "  xlab(\"Cancer Cell Line\") +\n",
    "  ylab(\"Mutational Signature Proportion\") +\n",
    "  scale_x_discrete(limits = list1) +\n",
    "  theme_bw() +\n",
    "  theme(axis.text.x=element_text(angle = 45, hjust = 1),\n",
    "    panel.border = element_blank(),\n",
    "    panel.grid.major = element_blank(),\n",
    "    panel.grid.minor = element_blank(),\n",
    "    axis.line = element_line(colour = \"black\"))"
   ]
  },
  {
   "cell_type": "code",
   "execution_count": null,
   "metadata": {},
   "outputs": [],
   "source": []
  },
  {
   "cell_type": "code",
   "execution_count": null,
   "metadata": {},
   "outputs": [],
   "source": [
    "tissues\n",
    "# 'Adrenal Gland''Autonomic Ganglia''Biliary Tract''Bladder''Bone''Breast''Cervix''CNS''Endometrium''Kidney'\n",
    "# 'L. Intestine''Liver''Lung''NS''Oesophagus''Ovary''Pancreas''Placenta''Pleura''Prostate''S. Intestine'\n",
    "# 'Salivary Gland''Skin''Soft Tissue''Stomach''Testis''Thyroid''Upper Aerodigestive Tract''Vulva''WBC'"
   ]
  },
  {
   "cell_type": "code",
   "execution_count": null,
   "metadata": {},
   "outputs": [],
   "source": [
    "#tissues = c(\"Adrenal Gland\",\"Autonomic Ganglia\",\"Biliary Tract\",\"Bladder\",\"Bone\",\"Breast\",\n",
    "#                              \"Cervix\",\"CNS\",\"Endometrium\",\"Kidney\",\"L. Intestine\",\"Liver\",\"Lung\",\"NS\",\n",
    "#                              \"Oesophagus\",\"Ovary\",\"Pancreas\",\"Placenta\",\"Pleura\",\"Prostate\",\"Salivary Gland\",\n",
    "#                              \"S. Intestine\",\"Skin\",\"Soft Tissue\",\"Stomach\",\"Testis\",\"Thyroid\",\n",
    "#                              \"Upper Aerodigestive Tract\",\"Vulva\",\"WBC\") "
   ]
  },
  {
   "cell_type": "code",
   "execution_count": null,
   "metadata": {},
   "outputs": [],
   "source": [
    "options(repr.plot.width=16, repr.plot.height=6)"
   ]
  },
  {
   "cell_type": "code",
   "execution_count": null,
   "metadata": {
    "scrolled": false
   },
   "outputs": [],
   "source": [
    "for( this_tissue in tissues ){\n",
    "    sigs_individual <- subset(sigs_tissues, tissue == this_tissue)\n",
    "    sigs_individual <- sigs_individual[,!colnames(sigs_individual) %in% c('tissue','mut_tot')]\n",
    "    sigs_melt <- melt(sigs_individual, id = \"sample\")\n",
    "    colnames(sigs_melt) <- c(\"sample\", \"sig\", \"value\")\n",
    "    sigs_melt[,\"sig\"] <- gsub(\"weights.\", \"\", sigs_melt[,\"sig\"])\n",
    "    sigs_melt[,\"sig\"] <- gsub(\"Signature.10\", \"I\", sigs_melt[,\"sig\"])\n",
    "    sigs_melt[,\"sig\"] <- gsub(\"Signature.11\", \"J\", sigs_melt[,\"sig\"])\n",
    "    sigs_melt[,\"sig\"] <- gsub(\"Signature.12\", \"K\", sigs_melt[,\"sig\"])\n",
    "    sigs_melt[,\"sig\"] <- gsub(\"Signature.14\", \"L\", sigs_melt[,\"sig\"])\n",
    "    sigs_melt[,\"sig\"] <- gsub(\"Signature.15\", \"M\", sigs_melt[,\"sig\"])\n",
    "    sigs_melt[,\"sig\"] <- gsub(\"Signature.16\", \"N\", sigs_melt[,\"sig\"])\n",
    "    sigs_melt[,\"sig\"] <- gsub(\"Signature.17\", \"O\", sigs_melt[,\"sig\"])\n",
    "    sigs_melt[,\"sig\"] <- gsub(\"Signature.18\", \"P\", sigs_melt[,\"sig\"])\n",
    "    sigs_melt[,\"sig\"] <- gsub(\"Signature.19\", \"Q\", sigs_melt[,\"sig\"])\n",
    "    sigs_melt[,\"sig\"] <- gsub(\"Signature.20\", \"R\", sigs_melt[,\"sig\"])\n",
    "    sigs_melt[,\"sig\"] <- gsub(\"Signature.21\", \"S\", sigs_melt[,\"sig\"])\n",
    "    sigs_melt[,\"sig\"] <- gsub(\"Signature.22\", \"T\", sigs_melt[,\"sig\"])\n",
    "    sigs_melt[,\"sig\"] <- gsub(\"Signature.23\", \"U\", sigs_melt[,\"sig\"])\n",
    "    sigs_melt[,\"sig\"] <- gsub(\"Signature.24\", \"V\", sigs_melt[,\"sig\"])\n",
    "    sigs_melt[,\"sig\"] <- gsub(\"Signature.25\", \"W\", sigs_melt[,\"sig\"])\n",
    "    sigs_melt[,\"sig\"] <- gsub(\"Signature.26\", \"X\", sigs_melt[,\"sig\"])\n",
    "    sigs_melt[,\"sig\"] <- gsub(\"Signature.27\", \"Y\", sigs_melt[,\"sig\"])\n",
    "    sigs_melt[,\"sig\"] <- gsub(\"Signature.28\", \"Z\", sigs_melt[,\"sig\"])\n",
    "    sigs_melt[,\"sig\"] <- gsub(\"Signature.29\", \"ZZ\", sigs_melt[,\"sig\"])\n",
    "    sigs_melt[,\"sig\"] <- gsub(\"Signature.30\", \"ZZZ\", sigs_melt[,\"sig\"])\n",
    "    sigs_melt[,\"sig\"] <- gsub(\"unknown\", \"ZZZZ\", sigs_melt[,\"sig\"])\n",
    "    sigs_melt[,\"sig\"] <- gsub(\"zAPOBEC.Sig\", \"ZZZZZ\", sigs_melt[,\"sig\"])\n",
    "    sigs_melt[,\"sig\"] <- gsub(\"Signature.1\", \"A\", sigs_melt[,\"sig\"])\n",
    "    sigs_melt[,\"sig\"] <- gsub(\"Signature.3\", \"B\", sigs_melt[,\"sig\"])\n",
    "    sigs_melt[,\"sig\"] <- gsub(\"Signature.4\", \"C\", sigs_melt[,\"sig\"])\n",
    "    sigs_melt[,\"sig\"] <- gsub(\"Signature.5\", \"D\", sigs_melt[,\"sig\"])\n",
    "    sigs_melt[,\"sig\"] <- gsub(\"Signature.6\", \"E\", sigs_melt[,\"sig\"])\n",
    "    sigs_melt[,\"sig\"] <- gsub(\"Signature.7\", \"F\", sigs_melt[,\"sig\"])\n",
    "    sigs_melt[,\"sig\"] <- gsub(\"Signature.8\", \"G\", sigs_melt[,\"sig\"])\n",
    "    sigs_melt[,\"sig\"] <- gsub(\"Signature.9\", \"H\", sigs_melt[,\"sig\"])\n",
    "    list <- sigs_individual[order(sigs_individual$zAPOBEC.Sig),]\n",
    "    list1 <- as.vector(list[,\"sample\"])\n",
    "    print(ggplot(sigs_melt, aes(sample, value, fill = sig)) +\n",
    "      geom_col() +\n",
    "      ggtitle( paste0(this_tissue,\" (n=\", length(list1), \")\")) +\n",
    "      #scale_fill_brewer() +\n",
    "      theme(axis.text.x=element_text(angle = 45, hjust = 1)) +\n",
    "      xlab(\"Cancer Cell Line\") +\n",
    "      ylab(\"Mutational Signature Proportion\") +\n",
    "      scale_x_discrete(limits = list1) +\n",
    "      theme_bw() +\n",
    "      theme(axis.text.x=element_text(angle = 45, hjust = 1),\n",
    "        panel.border = element_blank(),\n",
    "        panel.grid.major = element_blank(),\n",
    "        panel.grid.minor = element_blank(),\n",
    "        axis.line = element_line(colour = \"black\")))\n",
    "\n",
    "    sigs_individual <- subset(sigs_individual, zAPOBEC.Sig > 0)\n",
    "    if( nrow(sigs_individual) > 0){\n",
    "        sigs_melt <- melt(sigs_individual, id = \"sample\")\n",
    "        colnames(sigs_melt) <- c(\"sample\", \"sig\", \"value\")\n",
    "        sigs_melt <- subset(sigs_melt, sig == \"zAPOBEC.Sig\")\n",
    "        list <- sigs_individual[order(sigs_individual$zAPOBEC.Sig),]\n",
    "        list1 <- as.vector(list[,\"sample\"])\n",
    "        print(ggplot(sigs_melt, aes(sample, value, fill = sig)) +\n",
    "          geom_col() +\n",
    "          ggtitle( paste0(this_tissue,\" (n=\", length(list1), \")\")) +\n",
    "          #scale_fill_brewer() +\n",
    "          theme(axis.text.x=element_text(angle = 45, hjust = 1)) +\n",
    "          xlab(\"Cancer Cell Line\") +\n",
    "          ylab(\"Mutational Signature Proportion\") +\n",
    "          scale_x_discrete(limits = list1) +\n",
    "          theme_bw() +\n",
    "          theme(axis.text.x=element_text(angle = 45, hjust = 1),\n",
    "            panel.border = element_blank(),\n",
    "            panel.grid.major = element_blank(),\n",
    "            panel.grid.minor = element_blank(),\n",
    "            axis.line = element_line(colour = \"black\")))\n",
    "    }\n",
    "}"
   ]
  },
  {
   "cell_type": "code",
   "execution_count": null,
   "metadata": {},
   "outputs": [],
   "source": []
  },
  {
   "cell_type": "code",
   "execution_count": null,
   "metadata": {},
   "outputs": [],
   "source": []
  },
  {
   "cell_type": "code",
   "execution_count": null,
   "metadata": {},
   "outputs": [],
   "source": []
  },
  {
   "cell_type": "code",
   "execution_count": null,
   "metadata": {},
   "outputs": [],
   "source": [
    "enrich_tot <- unique(cosmic_mut_all_sort)\n",
    "enrich_tot$Mut_TCW <- \"0\"\n",
    "enrich_tot$Mut_C <- \"0\"\n",
    "enrich_tot$Con_TCW <- \"0\"\n",
    "enrich_tot$Con_C <- \"0\"\n",
    "mut <- data.frame(do.call('rbind', strsplit(as.character(enrich_tot$mut),'>',fixed=T)))\n",
    "enrich_tot$mut_ref <- mut[,1]\n",
    "\n",
    "enrich_C <- subset(enrich_tot, mut_ref == \"C\")\n",
    "enrich_CtoK <- subset(enrich_C, mut != \"C>A\") # Remove C>A mutations!\n",
    "\n",
    "enrich_CtoK[which(enrich_CtoK$mut_ref == \"C\"),\"Mut_C\"] <- \"1\"\n",
    "\n",
    "enrich_CtoK[which(enrich_CtoK$trinuc_mut == \"T[C>G]A\"),\"Mut_TCW\"] <- \"1\"\n",
    "enrich_CtoK[which(enrich_CtoK$trinuc_mut == \"T[C>G]T\"),\"Mut_TCW\"] <- \"1\"\n",
    "enrich_CtoK[which(enrich_CtoK$trinuc_mut == \"T[C>T]A\"),\"Mut_TCW\"] <- \"1\"\n",
    "enrich_CtoK[which(enrich_CtoK$trinuc_mut == \"T[C>T]T\"),\"Mut_TCW\"] <- \"1\"\n",
    "\n",
    "enrich_CtoK$Con_C <- str_count(enrich_CtoK$context, \"C\") + str_count(enrich_CtoK$context, \"G\")\n",
    "\n",
    "enrich_CtoK$Con_TCW <- str_count(enrich_CtoK$context, \"TCA\") + str_count(enrich_CtoK$context, \"TCT\") +\n",
    "                       str_count(enrich_CtoK$context, \"TGA\") + str_count(enrich_CtoK$context, \"TGT\")\n",
    "\n",
    "enrich_final <- enrich_CtoK[,16:20]\n",
    "enrich_final$Mut_TCW <- as.integer(enrich_final$Mut_TCW)\n",
    "enrich_final$Mut_C <- as.integer(enrich_final$Mut_C)\n",
    "\n",
    "enrich_final <- ddply(enrich_final, \"sample\", numcolwise(sum))\n",
    "\n",
    "rownames(enrich_final) <- enrich_final$sample\n",
    "enrich_final$sample <- NULL\n",
    "enrich_final$enrich_score <- (enrich_final$Mut_TCW / enrich_final$Con_TCW) / (enrich_final$Mut_C / enrich_final$Con_C)\n",
    "\n",
    "enrich_matrix <- as.data.frame(enrich_final$Mut_TCW)\n",
    "enrich_matrix$Mut_Denom <- enrich_final$Mut_C - enrich_final$Mut_TCW\n",
    "enrich_matrix$Con_TCW <- enrich_final$Con_TCW\n",
    "enrich_matrix$Con_Denom <- enrich_final$Con_C - enrich_final$Con_TCW\n",
    "rownames(enrich_matrix) <- rownames(enrich_final)\n",
    "colnames(enrich_matrix) <- c(\"Mut_TCW\", \"Mut_Denom\", \"Con_TCW\", \"Con_Denom\")\n",
    "\n",
    "enrich_matrix <- as.matrix(enrich_matrix)\n",
    "\n",
    "\n",
    "exe_fisher <- function(x) {\n",
    "  m <- matrix(unlist(x), ncol = 2, nrow = 2, byrow = T)\n",
    "  f <- fisher.test(m)\n",
    "  return(as.data.frame(f$p.value))\n",
    "}\n",
    "\n",
    "fishers <- t(as.data.frame(apply(enrich_matrix, 1, exe_fisher)))\n",
    "fishers <- as.data.frame(fishers)\n",
    "\n",
    "enrich_final$fisher_pval <- fishers$V1\n",
    "enrich_final$bh_adj_qval <- p.adjust(enrich_final$fisher_pval, method = \"BH\")\n",
    "\n",
    "enrich_final$Mut_Ratio <- enrich_final$Mut_TCW/(enrich_final$Mut_C - enrich_final$Mut_TCW)\n",
    "enrich_final$Con_Ratio <- enrich_final$Con_TCW/(enrich_final$Con_C - enrich_final$Con_TCW)\n",
    "enrich_final[which(enrich_final$Mut_Ratio < enrich_final$Con_Ratio), \"bh_adj_qval\"] <- 1\n",
    "enrich_final$Mut_Ratio <- NULL\n",
    "enrich_final$Con_Ratio <- NULL\n",
    "enrich_final$sample <- rownames(enrich_final)\n",
    "rownames(enrich_final) <- NULL\n"
   ]
  },
  {
   "cell_type": "code",
   "execution_count": null,
   "metadata": {},
   "outputs": [],
   "source": [
    "head(cell_line_mutload)"
   ]
  },
  {
   "cell_type": "code",
   "execution_count": null,
   "metadata": {},
   "outputs": [],
   "source": [
    "head(subset(cell_line_mutload,tissue==\"Lung\"))\n",
    "print(class(\"Lung\"))"
   ]
  },
  {
   "cell_type": "code",
   "execution_count": null,
   "metadata": {},
   "outputs": [],
   "source": [
    "if( exists(\"mut_med_quantiles\") ){\n",
    "    rm(mut_med_quantiles)\n",
    "}\n",
    "\n",
    "for( this_tissue in tissues ) {\n",
    "    mut_sub <- subset(cell_line_mutload, tissue == this_tissue)\n",
    "    if( exists(\"mut_med_quantiles\") ){\n",
    "        x <- as.data.frame(t(quantile(mut_sub$mut_tot)))\n",
    "        mut_med_quantiles <- rbind(mut_med_quantiles, x)\n",
    "    } else {\n",
    "        mut_med_quantiles <- as.data.frame(t(quantile(mut_sub$mut_tot)))\n",
    "    }\n",
    "}"
   ]
  },
  {
   "cell_type": "code",
   "execution_count": null,
   "metadata": {},
   "outputs": [],
   "source": []
  },
  {
   "cell_type": "code",
   "execution_count": null,
   "metadata": {},
   "outputs": [],
   "source": [
    "rownames(mut_med_quantiles) = tissues\n",
    "mut_med_quantiles$tissue <- rownames(mut_med_quantiles)\n",
    "colnames(mut_med_quantiles) <- c(\"low\", \"first\", \"med\", \"third\", \"high\", \"tissue\")"
   ]
  },
  {
   "cell_type": "code",
   "execution_count": null,
   "metadata": {},
   "outputs": [],
   "source": [
    "mut_med_quantiles"
   ]
  },
  {
   "cell_type": "code",
   "execution_count": null,
   "metadata": {},
   "outputs": [],
   "source": [
    "mut_med_quantiles <- mut_med_quantiles[order(mut_med_quantiles$med),] \n",
    "head(mut_med_quantiles)"
   ]
  },
  {
   "cell_type": "code",
   "execution_count": null,
   "metadata": {},
   "outputs": [],
   "source": [
    "plot_order <- as.vector(mut_med_quantiles[,\"tissue\"])\n",
    "head(plot_order)\n",
    "# 'Pleura''Prostate''Kidney''Pancreas''Bone''CNS'"
   ]
  },
  {
   "cell_type": "code",
   "execution_count": null,
   "metadata": {},
   "outputs": [],
   "source": [
    "# Adjust plot size\n",
    "options(repr.plot.width=16, repr.plot.height=6)"
   ]
  },
  {
   "cell_type": "code",
   "execution_count": null,
   "metadata": {},
   "outputs": [],
   "source": [
    "ggplot(mut_med_quantiles, aes(tissue, med)) +\n",
    "  geom_col() +\n",
    "  theme(axis.text.x=element_text(angle = 45, hjust = 1), legend.position = \"none\") +\n",
    "  geom_errorbar(aes(ymin=first, ymax=third), width=.3) +\n",
    "  scale_y_continuous(limits = c(0,3501),\n",
    "    breaks = c(0,1200,2400,3600)) +\n",
    "  xlab(\"Tissue Type\") +\n",
    "  ylab(\"Median Number of Mutations\") +\n",
    "  #geom_text(aes(label = freq), vjust = -0.2) +\n",
    "  theme_bw() +\n",
    "  theme(axis.text.x=element_text(angle = 45, hjust = 1),\n",
    "    panel.border = element_blank(),\n",
    "    panel.grid.major = element_blank(),\n",
    "    panel.grid.minor = element_blank(),\n",
    "    axis.line = element_line(colour = \"black\")) +\n",
    "  scale_fill_gradient(low = \"blue\", high = \"red\") +\n",
    "  scale_x_discrete(limits = plot_order ) +\n",
    "  ggtitle(\"Median Mutations by Tissue Type\")"
   ]
  },
  {
   "cell_type": "code",
   "execution_count": null,
   "metadata": {},
   "outputs": [],
   "source": [
    "number <- as.data.frame(table(cosmic_tissue_type$tissue))\n",
    "colnames(number) <- c(\"tissue\", \"freq\")\n",
    "ggplot(number, aes(tissue, freq)) +\n",
    "  geom_point(size = 4) +\n",
    "  ylim(0,200) +\n",
    "  theme(axis.text.x=element_text(angle = 45, hjust = 1)) +\n",
    "  scale_x_discrete(limits = tissues )\n",
    "#  scale_x_discrete(limits = c(\"Adrenal Gland\",\"Autonomic Ganglia\",\"Biliary Tract\",\"Bladder\",\"Bone\",\"Breast\",\n",
    "#                              \"Cervix\",\"CNS\",\"Endometrium\",\"Kidney\",\"L. Intestine\",\"Liver\",\"Lung\",\"NS\",\n",
    "#                              \"Oesophagus\",\"Ovary\",\"Pancreas\",\"Placenta\",\"Pleura\",\"Prostate\",\"Salivary Gland\",\n",
    "#                              \"S. Intestine\",\"Skin\",\"Soft Tissue\",\"Stomach\",\"Testis\",\"Thyroid\",\n",
    "#                              \"Upper Aerodigestive Tract\",\"Vulva\",\"WBC\"))"
   ]
  },
  {
   "cell_type": "code",
   "execution_count": null,
   "metadata": {},
   "outputs": [],
   "source": [
    "# use same sort as median number of mutations plot\n",
    "number <- as.data.frame(table(cosmic_tissue_type$tissue))\n",
    "colnames(number) <- c(\"tissue\", \"freq\")\n",
    "ggplot(number, aes(tissue, freq)) +\n",
    "  geom_point(size = 4) +\n",
    "  ylim(0,200) +\n",
    "  theme(axis.text.x=element_text(angle = 45, hjust = 1)) +\n",
    "  scale_x_discrete(limits = plot_order)"
   ]
  },
  {
   "cell_type": "code",
   "execution_count": null,
   "metadata": {},
   "outputs": [],
   "source": [
    "sigs_tissues_individual <- subset(sigs_tissues, tissue == \"L. Intestine\")\n",
    "head(sigs_tissues_individual)"
   ]
  },
  {
   "cell_type": "code",
   "execution_count": null,
   "metadata": {},
   "outputs": [],
   "source": [
    "length(sigs_tissues_individual)"
   ]
  },
  {
   "cell_type": "code",
   "execution_count": null,
   "metadata": {},
   "outputs": [],
   "source": [
    "sigs_tissues_individual_1 <- sigs_tissues_individual[order(sigs_tissues_individual$zAPOBEC.Sig),]\n",
    "rownames(sigs_tissues_individual_1) <- c(1:nrow(sigs_tissues_individual_1))\n",
    "sigs_tissues_individual_1[,\"order\"] <- rownames(sigs_tissues_individual_1)\n",
    "head(sigs_tissues_individual_1)"
   ]
  },
  {
   "cell_type": "code",
   "execution_count": null,
   "metadata": {},
   "outputs": [],
   "source": [
    "length(sigs_tissues_individual_1)"
   ]
  },
  {
   "cell_type": "code",
   "execution_count": null,
   "metadata": {},
   "outputs": [],
   "source": [
    "#sigs_tissues_individual_1 <- sigs_tissues_individual_1[\n",
    "#    ,!colnames(sigs_tissues_individual_1) %in% c('weights.Signature.2','weights.Signature.13','tissue')]\n",
    "#head(sigs_individual_1)"
   ]
  },
  {
   "cell_type": "code",
   "execution_count": null,
   "metadata": {},
   "outputs": [],
   "source": [
    "ggplot(sigs_tissues_individual_1, aes(as.numeric(order), mut_tot)) +\n",
    "  geom_point(shape = 18, size = 4) +\n",
    "  geom_smooth(span = 0.75) +\n",
    "  theme(axis.text.x=element_text(angle = 45, hjust = 1)) +\n",
    "  xlab(\"Cancer Cell Line\") +\n",
    "  ylab(\"Mut Burden\") +\n",
    "  ylim(0,1600) +\n",
    "  theme_bw() +\n",
    "  theme(axis.text.x=element_text(angle = 45, hjust = 1),\n",
    "    panel.border = element_blank(),\n",
    "    panel.grid.major = element_blank(),\n",
    "    panel.grid.minor = element_blank(),\n",
    "    axis.line = element_line(colour = \"black\"))"
   ]
  },
  {
   "cell_type": "code",
   "execution_count": null,
   "metadata": {},
   "outputs": [],
   "source": []
  },
  {
   "cell_type": "code",
   "execution_count": null,
   "metadata": {},
   "outputs": [],
   "source": []
  },
  {
   "cell_type": "code",
   "execution_count": null,
   "metadata": {
    "scrolled": false
   },
   "outputs": [],
   "source": [
    "for( this_tissue in tissues ){\n",
    "    sigs_tissues_individual <- subset(sigs_tissues, tissue == this_tissue)\n",
    "    sigs_tissues_individual_1 <- sigs_tissues_individual[order(sigs_tissues_individual$zAPOBEC.Sig),]\n",
    "    rownames(sigs_tissues_individual_1) <- c(1:nrow(sigs_tissues_individual_1))\n",
    "    sigs_tissues_individual_1[,\"order\"] <- rownames(sigs_tissues_individual_1)\n",
    "    print(ggplot(sigs_tissues_individual_1, aes(as.numeric(order), mut_tot)) +\n",
    "      geom_point(shape = 18, size = 4) +\n",
    "      geom_smooth(span = 0.75) +\n",
    "      theme(axis.text.x=element_text(angle = 45, hjust = 1)) +\n",
    "      ggtitle(this_tissue) +\n",
    "      xlab(\"Cell Line\") +\n",
    "      ylab(\"Mut Burden\") +\n",
    "      ylim(0,1600) +\n",
    "      theme_bw() +\n",
    "      theme(axis.text.x=element_text(angle = 45, hjust = 1),\n",
    "        panel.border = element_blank(),\n",
    "        panel.grid.major = element_blank(),\n",
    "        panel.grid.minor = element_blank(),\n",
    "        axis.line = element_line(colour = \"black\")))\n",
    "}"
   ]
  },
  {
   "cell_type": "code",
   "execution_count": null,
   "metadata": {},
   "outputs": [],
   "source": []
  },
  {
   "cell_type": "code",
   "execution_count": null,
   "metadata": {},
   "outputs": [],
   "source": []
  },
  {
   "cell_type": "code",
   "execution_count": null,
   "metadata": {},
   "outputs": [],
   "source": [
    "sigs_enrich <- merge(sigs_tissues, enrich_final, by = \"sample\")\n",
    "head(sigs_enrich)"
   ]
  },
  {
   "cell_type": "code",
   "execution_count": null,
   "metadata": {},
   "outputs": [],
   "source": [
    "sigs_enrich_tcw <- merge(sigs_enrich, tca_tct, by = \"sample\")\n",
    "head(sigs_enrich_tcw)"
   ]
  },
  {
   "cell_type": "code",
   "execution_count": null,
   "metadata": {},
   "outputs": [],
   "source": [
    "# Adjust plot size\n",
    "options(repr.plot.width=10, repr.plot.height=10)"
   ]
  },
  {
   "cell_type": "code",
   "execution_count": null,
   "metadata": {},
   "outputs": [],
   "source": [
    "#ggplot(sigs_enrich_tcw, aes(enrich_score, tca_tct)) +\n",
    "#  geom_point() +\n",
    "#  xlim(0,5) +\n",
    "#  ylim(0,0.5)\n",
    "\n",
    "ggplot(sigs_enrich_tcw, aes(tca_tct,enrich_score)) +\n",
    "  geom_point() +\n",
    "  ylim(0,5) +\n",
    "  xlim(0,0.5)"
   ]
  },
  {
   "cell_type": "code",
   "execution_count": null,
   "metadata": {},
   "outputs": [],
   "source": [
    "ggplot(sigs_enrich_tcw, aes(zAPOBEC.Sig, tca_tct)) +\n",
    "  geom_point() +\n",
    "  xlim(0,0.8) +\n",
    "  ylim(0,0.5)"
   ]
  },
  {
   "cell_type": "code",
   "execution_count": null,
   "metadata": {},
   "outputs": [],
   "source": [
    "ggplot(sigs_enrich_tcw, aes(zAPOBEC.Sig, enrich_score)) +\n",
    "  geom_point() +\n",
    "  xlim(0,0.8) +\n",
    "  ylim(0,5)"
   ]
  },
  {
   "cell_type": "code",
   "execution_count": null,
   "metadata": {},
   "outputs": [],
   "source": []
  },
  {
   "cell_type": "code",
   "execution_count": null,
   "metadata": {},
   "outputs": [],
   "source": []
  },
  {
   "cell_type": "code",
   "execution_count": null,
   "metadata": {},
   "outputs": [],
   "source": [
    "# Try to plot \"Mutation Fraction\"/\"Trinucleotide Context\" from \"context\""
   ]
  },
  {
   "cell_type": "code",
   "execution_count": null,
   "metadata": {
    "scrolled": false
   },
   "outputs": [],
   "source": [
    "head(context)"
   ]
  },
  {
   "cell_type": "code",
   "execution_count": null,
   "metadata": {},
   "outputs": [],
   "source": [
    "context$sample <- rownames(context)\n",
    "head(context)"
   ]
  },
  {
   "cell_type": "code",
   "execution_count": null,
   "metadata": {},
   "outputs": [],
   "source": [
    "context <- merge(context, cosmic_tissue_type, by = \"sample\", all.x = T)\n",
    "head(context)"
   ]
  },
  {
   "cell_type": "code",
   "execution_count": null,
   "metadata": {},
   "outputs": [],
   "source": [
    "context_melt <- melt(context,id=c(\"sample\",\"tissue\"))\n",
    "head(context_melt)"
   ]
  },
  {
   "cell_type": "code",
   "execution_count": null,
   "metadata": {},
   "outputs": [],
   "source": [
    "context_melt$alt <- substr(context_melt$variable, 5, 5)\n",
    "head(context_melt)"
   ]
  },
  {
   "cell_type": "code",
   "execution_count": null,
   "metadata": {},
   "outputs": [],
   "source": [
    "context_melt$trinuc <- paste0(substr(context_melt$variable, 1, 1),\n",
    "                              substr(context_melt$variable, 3, 3),\n",
    "                              substr(context_melt$variable, 7, 7))\n",
    "head(context_melt)"
   ]
  },
  {
   "cell_type": "code",
   "execution_count": null,
   "metadata": {},
   "outputs": [],
   "source": [
    "# Adjust plot size\n",
    "options(repr.plot.width=16, repr.plot.height=6)"
   ]
  },
  {
   "cell_type": "code",
   "execution_count": null,
   "metadata": {},
   "outputs": [],
   "source": [
    "samples <- unique(as.vector(context_melt[,\"sample\"]))\n",
    "head(samples)"
   ]
  },
  {
   "cell_type": "code",
   "execution_count": null,
   "metadata": {},
   "outputs": [],
   "source": [
    "length(samples)"
   ]
  },
  {
   "cell_type": "code",
   "execution_count": null,
   "metadata": {
    "scrolled": false
   },
   "outputs": [],
   "source": [
    "#for( this_tissue in tissues ){\n",
    "for( this_sample in samples ){\n",
    "    cell_line = subset(context_melt, sample == this_sample ) #& tissue == this_tissue )\n",
    "    if( nrow(cell_line) > 0 ){\n",
    "        print(ggplot(cell_line, aes(trinuc, value, fill = alt)) +\n",
    "            geom_col() +\n",
    "            ylim(0,0.30) +  # fixed y limit for easier viewing and comparison\n",
    "            ggtitle( paste0( this_sample, \" - \", cell_line$tissue[1] ) ) +\n",
    "#            ggtitle( paste0( this_tissue, \" - \", this_sample ) ) +\n",
    "            theme(axis.text.x=element_text(angle = 45, hjust = 1)) +\n",
    "            xlab(\"Trinucleotide Context\") +\n",
    "            ylab(\"Mutation Fraction\") +\n",
    "            #      scale_x_discrete(limits = list1) +\n",
    "            theme_bw() +\n",
    "            theme(axis.text.x=element_text(angle = 45, hjust = 1),\n",
    "                panel.border = element_blank(),\n",
    "                panel.grid.major = element_blank(),\n",
    "                panel.grid.minor = element_blank(),\n",
    "                axis.line = element_line(colour = \"black\")))\n",
    "    }\n",
    "} # }"
   ]
  },
  {
   "cell_type": "code",
   "execution_count": null,
   "metadata": {},
   "outputs": [],
   "source": [
    "date()"
   ]
  }
 ],
 "metadata": {
  "kernelspec": {
   "display_name": "R",
   "language": "R",
   "name": "ir"
  },
  "language_info": {
   "codemirror_mode": "r",
   "file_extension": ".r",
   "mimetype": "text/x-r-source",
   "name": "R",
   "pygments_lexer": "r",
   "version": "3.6.1"
  }
 },
 "nbformat": 4,
 "nbformat_minor": 2
}
